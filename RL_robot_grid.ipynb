{
  "cells": [
    {
      "cell_type": "markdown",
      "metadata": {
        "id": "view-in-github",
        "colab_type": "text"
      },
      "source": [
        "<a href=\"https://colab.research.google.com/github/Himanshu5iiser/reinforcement_learning/blob/main/RL_robot_grid.ipynb\" target=\"_parent\"><img src=\"https://colab.research.google.com/assets/colab-badge.svg\" alt=\"Open In Colab\"/></a>"
      ]
    },
    {
      "cell_type": "markdown",
      "metadata": {
        "id": "524e71b3"
      },
      "source": [
        "# Robot Moving in a Grid\n",
        "\n",
        "Consider the following $5 \\times 10$ grid in which a robot needs to move from $S$ to $T$. From any cell, the robot can <i>attempt</i> to take any of the 4 actions: <tt>left</tt>, <tt>up</tt>, <tt>right</tt> and <tt>down</tt>. The environment behaves as follows:\n",
        "* Some actions will make the robot hit the wall (the bold line), so such actions will waste 1 unit of energy ($-1$ reward) and keep the robot in the same position. For example, a <tt>left</tt> or <tt>down</tt> move from $S$ will keep it in $S$ and earn reward $-1$ without any so called progress.\n",
        "* The cells marked in red are muddy, so if the robot moves to any of those cells, then it earns reward $-20$.\n",
        "* In all other cases, it loses 1 unit of energy (reward $-1$) and moves to another cell, as evident from the picture.\n",
        "\n",
        "![grid-2.png](https://github.com/Himanshu5iiser/reinforcement_learning/blob/main/grid.png?raw=true)\n",
        "\n",
        "The cells are numbered 0 to 50, as in the picture, and will be referred by the indices 0 to 50. Let the actions (attempt to move) be defined as 'L','U','R' and 'D'. The following code cell defines the start (S) and the terminal (T) cells."
      ],
      "id": "524e71b3"
    },
    {
      "cell_type": "code",
      "execution_count": null,
      "metadata": {
        "id": "1669235c"
      },
      "outputs": [],
      "source": [
        "import numpy as np\n",
        "\n",
        "S = 0 # index of start state\n",
        "T = 9 # index of terminal state\n",
        "n = 50 # number of states"
      ],
      "id": "1669235c"
    },
    {
      "cell_type": "markdown",
      "metadata": {
        "id": "3a2d8406"
      },
      "source": [
        "## Task 1:  The dynamics of the environment\n",
        "\n",
        "Write a function which returns the probability $p(s1,r|s,a)$ of moving to state $s1$ and getting reward $r$ when the robot takes action $a$ from state $s$. You may define the dynamics in a tensor and simply return the appropriate element, or you may write a function that calculates the probability (because the grid has a pattern)."
      ],
      "id": "3a2d8406"
    },
    {
      "cell_type": "code",
      "execution_count": null,
      "metadata": {
        "id": "68505228"
      },
      "outputs": [],
      "source": [
        "def p(s1,r,s,a):\n",
        "    if s == T:\n",
        "        return 0 # The episode has ended\n",
        "    else:\n",
        "      move={\"L\": -1,\n",
        "            \"U\":10,\n",
        "            \"R\":1,\n",
        "            \"D\":-10}\n",
        "      boundary={\"L\":(s//10)*10,\"R\":(s//10)*10+9,\"D\":s%10,\"U\":s%10+40}\n",
        "      stemp=s+move[a]\n",
        "      if a in [\"R\", \"U\"]:\n",
        "        stemp=min(stemp,boundary[a])\n",
        "\n",
        "      else:\n",
        "        stemp=max(stemp,boundary[a])\n",
        "      if stemp in list(range(1,9)):\n",
        "        if r==-20:\n",
        "          return float(stemp==s1)\n",
        "        else:\n",
        "          return 0.0\n",
        "      else:\n",
        "        if r==-1:\n",
        "          return float(stemp==s1)\n",
        "        else:\n",
        "          return 0.0\n",
        "\n",
        "\n",
        "    # Complete your code here and return appropriately\n",
        "    #return 1"
      ],
      "id": "68505228"
    },
    {
      "cell_type": "code",
      "execution_count": null,
      "metadata": {
        "id": "4f6727e3"
      },
      "outputs": [],
      "source": [
        "# Test cases\n",
        "assert(p(40,-1,40,'L')==1), \"From 40, going left will not work.\"\n",
        "assert(p(33,-1,34,'D')==0), \"From 33, 'D' will take you to 23.\""
      ],
      "id": "4f6727e3"
    },
    {
      "cell_type": "markdown",
      "metadata": {
        "id": "c8997c85"
      },
      "source": [
        "## Task 2: The Value function $v_*$ under the Optimal Policy $\\pi_*$\n",
        "\n",
        "From the picture, the optimal path from $S$ to $T$ is clear. However, note that the optimal policy is defined for any state, i.e., even if the robot is in some state not in the optimal path from $S$ to $T$, it has an optimal policy to follow. Under the optimal policy $\\pi_*$, every state has $s$ a value function $v_*(s)$. Manually or programmatically compute the array $v_*$ of size 50."
      ],
      "id": "c8997c85"
    },
    {
      "cell_type": "code",
      "execution_count": null,
      "metadata": {
        "id": "4f8589f9"
      },
      "outputs": [],
      "source": [
        "def v_star(p,n,S,T):\n",
        "    v = np.zeros(n)\n",
        "    ## Complete your code\n",
        "    if T in range(1,9):\n",
        "        v[0]=-(abs(10%10-T%10)+abs(10//10-T//10)+20)\n",
        "        for i in range(1,50):\n",
        "            if i==T-1:\n",
        "                v[i]=-20\n",
        "#             elif i==T:\n",
        "#                 v[i]=0\n",
        "            elif i in range(1,9):\n",
        "                i0=i+10\n",
        "                v[i]=-(abs(i0%10-T%10)+abs(i0//10-T//10)+20)\n",
        "            else:\n",
        "                v[i]=-(abs(i%10-T%10)+abs(i//10-T//10)-1+20)\n",
        "    elif T==9:\n",
        "        v[8]=-1\n",
        "        for i in range(50):\n",
        "            if i!=8:\n",
        "                if i in range(10):\n",
        "                    i0=i+10\n",
        "                    v[i]=-(abs(i0%10-T%10)+abs(i0//10-T//10)+1)\n",
        "                else:\n",
        "                    v[i]=-(abs(i%10-T%10)+abs(i//10-T//10))\n",
        "    elif T==0:\n",
        "        v[1]=-1\n",
        "        for i in range(50):\n",
        "            if i!=1:\n",
        "                if i in range(10):\n",
        "                    i0=i+10\n",
        "                    v[i]=-(abs(i0%10-T%10)+abs(i0//10-T//10)+1)\n",
        "                else:\n",
        "                    v[i]=-(abs(i%10-T%10)+abs(i//10-T//10))\n",
        "\n",
        "\n",
        "\n",
        "    else:\n",
        "\n",
        "        #v[0]=-(abs(10%10-T%10)+abs(10//10-T//10)+1)\n",
        "        for i in range(50):\n",
        "            if i in range(10):\n",
        "                i0=i+10\n",
        "                v[i]=-(abs(i0%10-T%10)+abs(i0//10-T//10)+1)\n",
        "            else:\n",
        "                v[i]=-(abs(i%10-T%10)+abs(i//10-T//10))\n",
        "    v[T]=0\n",
        "\n",
        "    return np.array(v)\n",
        "    return v"
      ],
      "id": "4f8589f9"
    },
    {
      "cell_type": "code",
      "execution_count": null,
      "metadata": {
        "colab": {
          "base_uri": "https://localhost:8080/"
        },
        "id": "wCwQ5bB1EM9h",
        "outputId": "0c57d12d-a0ae-42ea-9020-f4fa17556ea5"
      },
      "outputs": [
        {
          "output_type": "execute_result",
          "data": {
            "text/plain": [
              "array([-11., -10.,  -9.,  -8.,  -7.,  -6.,  -5.,  -4.,  -1.,   0., -10.,\n",
              "        -9.,  -8.,  -7.,  -6.,  -5.,  -4.,  -3.,  -2.,  -1., -11., -10.,\n",
              "        -9.,  -8.,  -7.,  -6.,  -5.,  -4.,  -3.,  -2., -12., -11., -10.,\n",
              "        -9.,  -8.,  -7.,  -6.,  -5.,  -4.,  -3., -13., -12., -11., -10.,\n",
              "        -9.,  -8.,  -7.,  -6.,  -5.,  -4.])"
            ]
          },
          "metadata": {},
          "execution_count": 5
        }
      ],
      "source": [
        "v_star([],50,0,9)"
      ],
      "id": "wCwQ5bB1EM9h"
    },
    {
      "cell_type": "code",
      "execution_count": null,
      "metadata": {
        "colab": {
          "base_uri": "https://localhost:8080/",
          "height": 175
        },
        "id": "96feaeca",
        "outputId": "7d533df4-cc6c-4685-c09a-8ec0a48c91cc"
      },
      "outputs": [
        {
          "ename": "TypeError",
          "evalue": "ignored",
          "output_type": "error",
          "traceback": [
            "\u001b[0;31m---------------------------------------------------------------------------\u001b[0m",
            "\u001b[0;31mTypeError\u001b[0m                                 Traceback (most recent call last)",
            "\u001b[0;32m<ipython-input-8-e1ae0489f916>\u001b[0m in \u001b[0;36m<cell line: 1>\u001b[0;34m()\u001b[0m\n\u001b[0;32m----> 1\u001b[0;31m \u001b[0;32massert\u001b[0m\u001b[0;34m(\u001b[0m\u001b[0mv_star\u001b[0m\u001b[0;34m(\u001b[0m\u001b[0mp\u001b[0m\u001b[0;34m)\u001b[0m\u001b[0;34m.\u001b[0m\u001b[0mshape\u001b[0m\u001b[0;34m==\u001b[0m\u001b[0;34m(\u001b[0m\u001b[0mn\u001b[0m\u001b[0;34m,\u001b[0m\u001b[0;34m)\u001b[0m\u001b[0;34m)\u001b[0m\u001b[0;34m\u001b[0m\u001b[0;34m\u001b[0m\u001b[0m\n\u001b[0m",
            "\u001b[0;31mTypeError\u001b[0m: v_star() missing 3 required positional arguments: 'n', 'S', and 'T'"
          ]
        }
      ],
      "source": [
        "assert(v_star(p).shape==(n,))"
      ],
      "id": "96feaeca"
    },
    {
      "cell_type": "markdown",
      "metadata": {
        "id": "d3e38da8"
      },
      "source": [
        "## Task 3: DP Value Iteration\n",
        "\n",
        "Implement the dynamic programming based value iteration algorithm (Sutton and Barto, Page 83) to return an optimal policy $\\pi_*$ for the problem. Note that in this case, the agent can use the dynamics $p$ of the environment. Instead of looping forever, your function should continue learning till $N$ steps (or when the policy converges, whichever is earlier), where $N$ is being passed as a parameter.\n",
        "\n",
        "For you to analyze the performance of the algorithm, also store the total reward for every episode in an array (<tt>rewards</tt>) and return that array along with the optimal policy. Note that, once the policy is optimal, an episode following the optimal policy will have an optimal reward."
      ],
      "id": "d3e38da8"
    },
    {
      "cell_type": "code",
      "execution_count": null,
      "metadata": {
        "id": "027cd8f8"
      },
      "outputs": [],
      "source": [
        "\"\"\"\n",
        "    paramters:\n",
        "        p: the dynamics (actually a function defined earlier)\n",
        "        n: the number of states\n",
        "        S: the index of the start state\n",
        "        T: the index of the terminal state\n",
        "        N: maximum number of steps / actions\n",
        "\"\"\"\n",
        "def value_iteration(p,n,S,T,N):\n",
        "    v = np.zeros(n)\n",
        "    pi = [0 for i in range(n)]#np.zeros(n, dtype=int)  # Policy\n",
        "    rewards = np.array([0 for i in range(N)])\n",
        "\n",
        "    gamma = 0.9  # Discount factor\n",
        "\n",
        "    for i in range(N):\n",
        "        delta = 0\n",
        "        tr=0\n",
        "        for s in range(n):\n",
        "            if s == T:\n",
        "                continue\n",
        "\n",
        "            v_old = v[s]\n",
        "            max_value = -np.inf\n",
        "            best_action = None\n",
        "\n",
        "            for a in ['L', 'U', 'R', 'D']:\n",
        "                expected_value = 0\n",
        "                for s1 in range(n):\n",
        "                    for r in [-20, -1]:\n",
        "                        transition_prob = p(s1, r, s, a)\n",
        "                        expected_value += transition_prob * (r + gamma * v[s1])\n",
        "                if expected_value > max_value:\n",
        "                    max_value = expected_value\n",
        "                    best_action = a\n",
        "            tr+=max_value\n",
        "            v[s] = max_value\n",
        "            pi[s] = best_action\n",
        "            delta = max(delta, abs(v_old - v[s]))\n",
        "        rewards[i]+=tr\n",
        "\n",
        "\n",
        "        # if delta < 1e-6:\n",
        "        #     break\n",
        "\n",
        "    return pi, rewards/N"
      ],
      "id": "027cd8f8"
    },
    {
      "cell_type": "code",
      "execution_count": null,
      "metadata": {
        "id": "V8NEcrBQd5n9",
        "colab": {
          "base_uri": "https://localhost:8080/"
        },
        "outputId": "e55b390d-0215-4a8c-9530-cee4352021de"
      },
      "outputs": [
        {
          "output_type": "execute_result",
          "data": {
            "text/plain": [
              "(100,\n",
              " array([-11., -10.,  -9.,  -8.,  -7.,  -6.,  -5.,  -4.,  -1.,   0., -10.,\n",
              "         -9.,  -8.,  -7.,  -6.,  -5.,  -4.,  -3.,  -2.,  -1., -11., -10.,\n",
              "         -9.,  -8.,  -7.,  -6.,  -5.,  -4.,  -3.,  -2., -12., -11., -10.,\n",
              "         -9.,  -8.,  -7.,  -6.,  -5.,  -4.,  -3., -13., -12., -11., -10.,\n",
              "         -9.,  -8.,  -7.,  -6.,  -5.,  -4.]))"
            ]
          },
          "metadata": {},
          "execution_count": 7
        }
      ],
      "source": [
        "a,b=value_iteration(p,n,S,T,100)\n",
        "len(b),v_star([],50,0,9)"
      ],
      "id": "V8NEcrBQd5n9"
    },
    {
      "cell_type": "markdown",
      "metadata": {
        "id": "52e96574"
      },
      "source": [
        "## Task 4: SARSA (on-policy TD control)\n",
        "\n",
        "Implement on-policy TD control (Sutton and Barto, Page 130) for the above problem and compute the optimal action values $q_*$ for every state action pair and return the optimal policy learnt in the process. Note that in this case the dynamics of the environment is passed to the function, but that's only for computing the state and reward after every action. The agent should not use $p$ directly. Similar to Task 3, store the rewards and return."
      ],
      "id": "52e96574"
    },
    {
      "cell_type": "code",
      "source": [
        "def sarsa(p, n, S, T, N, alpha, epsilon):\n",
        "    pi = [0 for i in range(n)]#np.zeros(n, dtype=int)  # Policy\n",
        "    rewards = np.array([0 for i in range(N)])\n",
        "    #Q={key: value for key, value in Qinit.items()}\n",
        "\n",
        "    Q={\"L\":-np.ones(50),\"R\":-np.ones(50), \"U\":-np.ones(50), \"D\":-np.ones(50)}\n",
        "    Q[\"R\"][:8]=-20\n",
        "    Q[\"R\"][8]=-1\n",
        "    Q[\"L\"][2:9]=-20\n",
        "    Q[\"L\"][:2]=-1\n",
        "    Q[\"D\"][11:19]=-20\n",
        "\n",
        "    gamma = 1  # Discount factor\n",
        "\n",
        "    for i in range(N):\n",
        "        s = S\n",
        "\n",
        "        #print(a)\n",
        "        episode_reward = 0\n",
        "\n",
        "        for _ in range(N):\n",
        "            actions=[\"L\",\"U\",\"R\",\"D\"]\n",
        "            qt=[Q[\"L\"][s],Q[\"U\"][s],Q[\"R\"][s],Q[\"D\"][s]]\n",
        "            a = actions[qt.index(max(qt))] if np.random.rand() > epsilon else np.random.choice(actions)\n",
        "\n",
        "            if s == T:\n",
        "                continue #return 0\n",
        "            move={\"L\": -1,\n",
        "                \"U\":10,\n",
        "                \"R\":1,\n",
        "                \"D\":-10}\n",
        "            boundary={\"L\":(s//10)*10,\"R\":(s//10)*10+9,\"D\":s%10,\"U\":s%10+40}\n",
        "            s1=s+move[a]\n",
        "            if a in [\"R\", \"U\"]:\n",
        "                s1=min(s1,boundary[a])\n",
        "\n",
        "            else:\n",
        "                s1=max(s1,boundary[a])\n",
        "            r=-20 if s1 in range(1,9) else -1\n",
        "\n",
        "            #finding max Q\n",
        "            qt=[Q[\"L\"][s1],Q[\"U\"][s1],Q[\"R\"][s1],Q[\"D\"][s1]]\n",
        "            amax = actions[qt.index(max(qt))]\n",
        "\n",
        "            #a1 = pi[s1] if np.random.rand() > epsilon else np.random.choice([0, 1, 2, 3])\n",
        "            Q[a][s]=Q[a][s]+alpha*(r+gamma*Q[amax][s1]-Q[a][s])\n",
        "            rewards[i]+=r\n",
        "            s=s1\n",
        "            #pi[s] = np.argmax(Q[\"L\" if s in [1, 2, 3, 4, 5, 6, 7, 8] else \"R\"][:8][s])\n",
        "\n",
        "            # episode_reward += r\n",
        "            # s = s1\n",
        "            a = amax\n",
        "\n",
        "            if s == T:\n",
        "                break\n",
        "\n",
        "        #rewards.append(episode_reward)\n",
        "    for i in range(n):\n",
        "        actions=[\"L\",\"U\",\"R\",\"D\"]\n",
        "        qt=[Q[\"L\"][i],Q[\"U\"][i],Q[\"R\"][i],Q[\"D\"][i]]\n",
        "        pi[i] = actions[qt.index(max(qt))]\n",
        "    return pi, rewards/N\n"
      ],
      "metadata": {
        "id": "VVzkYiRItLtk"
      },
      "id": "VVzkYiRItLtk",
      "execution_count": null,
      "outputs": []
    },
    {
      "cell_type": "code",
      "execution_count": null,
      "metadata": {
        "id": "t4HyLDEKfL2l",
        "colab": {
          "base_uri": "https://localhost:8080/"
        },
        "outputId": "810d32ed-4d1d-4527-ff17-f7f2e4bbb143"
      },
      "outputs": [
        {
          "output_type": "execute_result",
          "data": {
            "text/plain": [
              "(1000,\n",
              " ['U',\n",
              "  'U',\n",
              "  'U',\n",
              "  'U',\n",
              "  'U',\n",
              "  'U',\n",
              "  'U',\n",
              "  'U',\n",
              "  'R',\n",
              "  'L',\n",
              "  'R',\n",
              "  'R',\n",
              "  'R',\n",
              "  'R',\n",
              "  'R',\n",
              "  'R',\n",
              "  'R',\n",
              "  'R',\n",
              "  'R',\n",
              "  'D',\n",
              "  'L',\n",
              "  'D',\n",
              "  'R',\n",
              "  'R',\n",
              "  'R',\n",
              "  'R',\n",
              "  'R',\n",
              "  'D',\n",
              "  'R',\n",
              "  'D',\n",
              "  'U',\n",
              "  'L',\n",
              "  'R',\n",
              "  'R',\n",
              "  'R',\n",
              "  'R',\n",
              "  'R',\n",
              "  'D',\n",
              "  'R',\n",
              "  'D',\n",
              "  'L',\n",
              "  'R',\n",
              "  'R',\n",
              "  'D',\n",
              "  'R',\n",
              "  'U',\n",
              "  'D',\n",
              "  'R',\n",
              "  'R',\n",
              "  'L'])"
            ]
          },
          "metadata": {},
          "execution_count": 9
        }
      ],
      "source": [
        "a,b=sarsa(p,n,0,T,1000,0.2,0.1)\n",
        "len(b),a"
      ],
      "id": "t4HyLDEKfL2l"
    },
    {
      "cell_type": "markdown",
      "metadata": {
        "id": "05c8f4d3"
      },
      "source": [
        "## Task 5: Q-Learning (off-policy TD control)\n",
        "\n",
        "Similar to Task 4, implement the off-policy TD control (Sutton and Barto, Page 131). Since this algorithm is off-policy, the behavior policy is not expected to gain good rewards for every episode. Nevertheless, return the rewards as before."
      ],
      "id": "05c8f4d3"
    },
    {
      "cell_type": "code",
      "source": [
        "def q_learning(p,n,S,T,N,alpha,epsilon):\n",
        "    pi = [0 for i in range(n)]#np.zeros(n, dtype=int)  # Policy\n",
        "    rewards = np.array([0 for i in range(N)])\n",
        "    #Q={key: value for key, value in Qinit.items()}\n",
        "\n",
        "    Q={\"L\":-np.ones(50),\"R\":-np.ones(50), \"U\":-np.ones(50), \"D\":-np.ones(50)}\n",
        "    Q[\"R\"][:8]=-20\n",
        "    Q[\"R\"][8]=-1\n",
        "    Q[\"L\"][2:9]=-20\n",
        "    Q[\"L\"][:2]=-1\n",
        "    Q[\"D\"][11:19]=-20\n",
        "\n",
        "    gamma = 1  # Discount factor\n",
        "\n",
        "    for i in range(N):\n",
        "        s = S\n",
        "\n",
        "        #print(a)\n",
        "        episode_reward = 0\n",
        "\n",
        "        for _ in range(N):\n",
        "            actions=[\"L\",\"U\",\"R\",\"D\"]\n",
        "            qt=[Q[\"L\"][s],Q[\"U\"][s],Q[\"R\"][s],Q[\"D\"][s]]\n",
        "            a = actions[qt.index(max(qt))] if np.random.rand() > epsilon else np.random.choice(actions)\n",
        "\n",
        "            if s == T:\n",
        "                continue #return 0\n",
        "            move={\"L\": -1,\n",
        "                \"U\":10,\n",
        "                \"R\":1,\n",
        "                \"D\":-10}\n",
        "            boundary={\"L\":(s//10)*10,\"R\":(s//10)*10+9,\"D\":s%10,\"U\":s%10+40}\n",
        "            s1=s+move[a]\n",
        "            if a in [\"R\", \"U\"]:\n",
        "                s1=min(s1,boundary[a])\n",
        "\n",
        "            else:\n",
        "                s1=max(s1,boundary[a])\n",
        "            r=-20 if s1 in range(1,9) else -1\n",
        "\n",
        "            #finding max Q\n",
        "            qt=[Q[\"L\"][s1],Q[\"U\"][s1],Q[\"R\"][s1],Q[\"D\"][s1]]\n",
        "            amax = actions[qt.index(max(qt))]\n",
        "\n",
        "            #a1 = pi[s1] if np.random.rand() > epsilon else np.random.choice([0, 1, 2, 3])\n",
        "            Q[a][s]=Q[a][s]+alpha*(r+gamma*Q[amax][s1]-Q[a][s])\n",
        "            rewards[i]+=r\n",
        "            s=s1\n",
        "            #pi[s] = np.argmax(Q[\"L\" if s in [1, 2, 3, 4, 5, 6, 7, 8] else \"R\"][:8][s])\n",
        "\n",
        "            # episode_reward += r\n",
        "            # s = s1\n",
        "            #a = amax\n",
        "\n",
        "            if s == T:\n",
        "                break\n",
        "\n",
        "        #rewards.append(episode_reward)\n",
        "    for i in range(n):\n",
        "        actions=[\"L\",\"U\",\"R\",\"D\"]\n",
        "        qt=[Q[\"L\"][i],Q[\"U\"][i],Q[\"R\"][i],Q[\"D\"][i]]\n",
        "        pi[i] = actions[qt.index(max(qt))]\n",
        "    return pi, rewards/N\n"
      ],
      "metadata": {
        "id": "NYh4hnFhZh_x"
      },
      "id": "NYh4hnFhZh_x",
      "execution_count": null,
      "outputs": []
    },
    {
      "cell_type": "code",
      "source": [
        "q_learning(p,n,S,T,100,0.2,0.1)"
      ],
      "metadata": {
        "colab": {
          "base_uri": "https://localhost:8080/"
        },
        "id": "z2X3eA0tn2Te",
        "outputId": "d67b219e-9310-4291-cd2d-f20a84a2fa3d"
      },
      "id": "z2X3eA0tn2Te",
      "execution_count": null,
      "outputs": [
        {
          "output_type": "execute_result",
          "data": {
            "text/plain": [
              "(['U',\n",
              "  'L',\n",
              "  'U',\n",
              "  'U',\n",
              "  'U',\n",
              "  'U',\n",
              "  'U',\n",
              "  'U',\n",
              "  'R',\n",
              "  'L',\n",
              "  'R',\n",
              "  'U',\n",
              "  'U',\n",
              "  'R',\n",
              "  'R',\n",
              "  'R',\n",
              "  'R',\n",
              "  'R',\n",
              "  'R',\n",
              "  'D',\n",
              "  'R',\n",
              "  'R',\n",
              "  'L',\n",
              "  'R',\n",
              "  'D',\n",
              "  'R',\n",
              "  'R',\n",
              "  'R',\n",
              "  'D',\n",
              "  'D',\n",
              "  'L',\n",
              "  'L',\n",
              "  'U',\n",
              "  'R',\n",
              "  'L',\n",
              "  'U',\n",
              "  'R',\n",
              "  'R',\n",
              "  'D',\n",
              "  'D',\n",
              "  'R',\n",
              "  'U',\n",
              "  'L',\n",
              "  'R',\n",
              "  'R',\n",
              "  'R',\n",
              "  'U',\n",
              "  'U',\n",
              "  'D',\n",
              "  'U'],\n",
              " array([-1.  , -1.19, -1.38, -1.  , -0.78, -1.19, -0.56, -1.19, -1.  ,\n",
              "        -0.87, -1.  , -1.38, -0.97, -1.35, -1.  , -1.  , -0.57, -0.59,\n",
              "        -0.69, -0.82, -1.  , -0.38, -0.94, -0.33, -1.38, -0.74, -0.45,\n",
              "        -0.78, -0.64, -0.52, -1.  , -0.44, -0.85, -0.6 , -0.47, -1.17,\n",
              "        -0.62, -0.36, -0.27, -1.76, -0.57, -0.45, -0.31, -0.58, -0.6 ,\n",
              "        -0.74, -0.4 , -0.54, -0.39, -0.22, -0.28, -0.45, -0.62, -0.36,\n",
              "        -0.4 , -0.33, -0.36, -0.15, -0.52, -0.46, -0.63, -0.86, -0.32,\n",
              "        -0.26, -0.19, -0.73, -0.39, -0.32, -0.34, -0.49, -0.32, -0.22,\n",
              "        -0.69, -0.73, -0.3 , -0.39, -0.42, -0.27, -0.42, -0.21, -0.4 ,\n",
              "        -0.18, -0.29, -0.21, -0.22, -0.74, -0.18, -0.26, -0.15, -0.38,\n",
              "        -0.18, -0.28, -0.32, -0.19, -0.19, -0.2 , -0.56, -0.15, -0.35,\n",
              "        -0.37]))"
            ]
          },
          "metadata": {},
          "execution_count": 11
        }
      ]
    },
    {
      "cell_type": "markdown",
      "metadata": {
        "id": "e016388c"
      },
      "source": [
        "## Task 6: Compare the methods\n",
        "\n",
        "Compare the methods in terms of\n",
        "* How fast they converge to an optimal policy (if at all)\n",
        "* Whether the method is aggressive or conservative (Refer to the discussion in Page 132)\n",
        "* Rewards per episodes during the learning, etc\n",
        "\n",
        "with appropriate visual plots."
      ],
      "id": "e016388c"
    },
    {
      "cell_type": "code",
      "source": [
        "import matplotlib.pyplot as plt"
      ],
      "metadata": {
        "id": "u7IO1eCfPKQk"
      },
      "id": "u7IO1eCfPKQk",
      "execution_count": null,
      "outputs": []
    },
    {
      "cell_type": "code",
      "execution_count": null,
      "metadata": {
        "id": "027cf985",
        "colab": {
          "base_uri": "https://localhost:8080/",
          "height": 430
        },
        "outputId": "4abe0942-0d64-4a06-d018-4265a8410f72"
      },
      "outputs": [
        {
          "output_type": "display_data",
          "data": {
            "text/plain": [
              "<Figure size 640x480 with 1 Axes>"
            ],
            "image/png": "[encoded data removed]"
          },
          "metadata": {}
        }
      ],
      "source": [
        "# No fixed guideline, do as you feel\n",
        "a,b=value_iteration(p,n,S,T,50)\n",
        "c,d=sarsa(p,n,0,T,500,0.1,0.05)\n",
        "e,f=q_learning(p,n,S,T,500,0.1,0.05)\n",
        "#plt.plot(b,label=\"DP\")\n",
        "plt.plot(d,label=\"SARSA\")\n",
        "plt.plot(f,label=\"Q LEARN\")\n",
        "plt.legend()\n",
        "plt.show()\n",
        "#print(f)\n",
        "\n",
        "\n",
        "\n"
      ],
      "id": "027cf985"
    },
    {
      "cell_type": "code",
      "source": [
        "#For DP\n",
        "plt.plot(b,label=\"DP\")\n",
        "plt.legend()\n",
        "plt.show()"
      ],
      "metadata": {
        "colab": {
          "base_uri": "https://localhost:8080/",
          "height": 430
        },
        "id": "gw3UdsdIbPRy",
        "outputId": "e0d88a5e-70f2-4c34-aa0d-6d596642c3bd"
      },
      "id": "gw3UdsdIbPRy",
      "execution_count": null,
      "outputs": [
        {
          "output_type": "display_data",
          "data": {
            "text/plain": [
              "<Figure size 640x480 with 1 Axes>"
            ],
            "image/png": "[encoded data removed]"
          },
          "metadata": {}
        }
      ]
    },
    {
      "cell_type": "markdown",
      "source": [
        "We observe that DP converges way faster than other 2 algorithms as it converged in nearly 10 episodes whereas q-learning and sarsa perform almost similar for this example and take about 200 episodes to converge to a solution."
      ],
      "metadata": {
        "id": "bsgcQv4HiWDz"
      },
      "id": "bsgcQv4HiWDz"
    },
    {
      "cell_type": "markdown",
      "source": [
        "**Path plotting**"
      ],
      "metadata": {
        "id": "UoeP3n-Bh-Je"
      },
      "id": "UoeP3n-Bh-Je"
    },
    {
      "cell_type": "code",
      "source": [
        "symbol={\"L\":\"←\",\"R\":\"→\",\"U\":\"↑\",\"D\":\"↓\",0:\"✙\"}"
      ],
      "metadata": {
        "id": "MC6sC1VFe4jR"
      },
      "id": "MC6sC1VFe4jR",
      "execution_count": null,
      "outputs": []
    },
    {
      "cell_type": "code",
      "source": [
        "def plotpath(arr):\n",
        "    ans=[]\n",
        "    #temp=[]\n",
        "    for i in range(len(arr)):\n",
        "        if i%10==0:\n",
        "            temp=[]\n",
        "            ans.append(temp)\n",
        "            temp.append(symbol[arr[i]])\n",
        "            #temp=[]\n",
        "            continue\n",
        "        temp.append(symbol[arr[i]])\n",
        "        #print(,end=\"\")\n",
        "    #print(ans)\n",
        "    for i in range(len(ans)):\n",
        "        print(*ans[-(i+1)])\n"
      ],
      "metadata": {
        "id": "NWD8Ypzlf51m"
      },
      "id": "NWD8Ypzlf51m",
      "execution_count": null,
      "outputs": []
    },
    {
      "cell_type": "markdown",
      "source": [
        "Path for DP"
      ],
      "metadata": {
        "id": "JZKoL7oMiHFB"
      },
      "id": "JZKoL7oMiHFB"
    },
    {
      "cell_type": "code",
      "source": [
        "plotpath(a)"
      ],
      "metadata": {
        "colab": {
          "base_uri": "https://localhost:8080/"
        },
        "id": "CZp8l7bngd45",
        "outputId": "491dcf0f-c62d-4a64-cf65-6ea826b747dd"
      },
      "id": "CZp8l7bngd45",
      "execution_count": null,
      "outputs": [
        {
          "output_type": "stream",
          "name": "stdout",
          "text": [
            "→ → → → → → → → → ↓\n",
            "→ → → → → → → → → ↓\n",
            "→ → → → → → → → → ↓\n",
            "→ → → → → → → → → ↓\n",
            "↑ ↑ ↑ ↑ ↑ ↑ ↑ ↑ → ✙\n"
          ]
        }
      ]
    },
    {
      "cell_type": "markdown",
      "source": [
        "Path for SARSA"
      ],
      "metadata": {
        "id": "cTFQQt-XiLi5"
      },
      "id": "cTFQQt-XiLi5"
    },
    {
      "cell_type": "code",
      "source": [
        "plotpath(c)"
      ],
      "metadata": {
        "colab": {
          "base_uri": "https://localhost:8080/"
        },
        "id": "OCxzO7AthhML",
        "outputId": "0eccf472-593d-4dc0-c33d-64e4ddc64633"
      },
      "id": "OCxzO7AthhML",
      "execution_count": null,
      "outputs": [
        {
          "output_type": "stream",
          "name": "stdout",
          "text": [
            "↓ → ↓ → → → ↓ ↓ → ↓\n",
            "← → → ↑ → ↓ ↓ → ↓ ↓\n",
            "↑ ← → → → → → ↓ ↓ ↓\n",
            "→ → → → → → → → → ↓\n",
            "↑ ↑ ↓ ↑ ↑ ↑ ↑ ↓ → ←\n"
          ]
        }
      ]
    },
    {
      "cell_type": "markdown",
      "source": [
        "Path for Q-Learning"
      ],
      "metadata": {
        "id": "-P8rNr5AiOF4"
      },
      "id": "-P8rNr5AiOF4"
    },
    {
      "cell_type": "code",
      "source": [
        "plotpath(e)"
      ],
      "metadata": {
        "colab": {
          "base_uri": "https://localhost:8080/"
        },
        "id": "7WbVLeAXhmDW",
        "outputId": "63077e84-e7cc-4461-cc60-af8557ce980c"
      },
      "id": "7WbVLeAXhmDW",
      "execution_count": null,
      "outputs": [
        {
          "output_type": "stream",
          "name": "stdout",
          "text": [
            "↓ ↑ → → ↓ → ↓ ↓ → →\n",
            "↑ → → → ← ← ← → → ↓\n",
            "→ → → → → → ↓ → → ↓\n",
            "→ → → → → → → → → ↓\n",
            "↑ ↑ ↓ ↑ ↑ ↑ ↓ ↑ ↑ ←\n"
          ]
        }
      ]
    }
  ],
  "metadata": {
    "colab": {
      "provenance": [],
      "include_colab_link": true
    },
    "kernelspec": {
      "display_name": "Python 3 (ipykernel)",
      "language": "python",
      "name": "python3"
    },
    "language_info": {
      "codemirror_mode": {
        "name": "ipython",
        "version": 3
      },
      "file_extension": ".py",
      "mimetype": "text/x-python",
      "name": "python",
      "nbconvert_exporter": "python",
      "pygments_lexer": "ipython3",
      "version": "3.9.12"
    }
  },
  "nbformat": 4,
  "nbformat_minor": 5
}